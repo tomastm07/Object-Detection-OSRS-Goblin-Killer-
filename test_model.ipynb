{
 "cells": [
  {
   "cell_type": "code",
   "execution_count": 1,
   "metadata": {},
   "outputs": [
    {
     "name": "stderr",
     "output_type": "stream",
     "text": [
      "2023-09-27 12:24:47.980176: I tensorflow/core/platform/cpu_feature_guard.cc:182] This TensorFlow binary is optimized to use available CPU instructions in performance-critical operations.\n",
      "To enable the following instructions: AVX2 FMA, in other operations, rebuild TensorFlow with the appropriate compiler flags.\n",
      "2023-09-27 12:24:50.558096: W tensorflow/compiler/tf2tensorrt/utils/py_utils.cc:38] TF-TRT Warning: Could not find TensorRT\n"
     ]
    },
    {
     "name": "stdout",
     "output_type": "stream",
     "text": [
      "Using TensorFlow backend\n"
     ]
    },
    {
     "name": "stderr",
     "output_type": "stream",
     "text": [
      "/home/tomas/miniconda3/envs/tf/lib/python3.9/site-packages/tqdm/auto.py:21: TqdmWarning: IProgress not found. Please update jupyter and ipywidgets. See https://ipywidgets.readthedocs.io/en/stable/user_install.html\n",
      "  from .autonotebook import tqdm as notebook_tqdm\n"
     ]
    }
   ],
   "source": [
    "\n",
    "import tensorflow as tf\n",
    "import cv2\n",
    "import pyautogui\n",
    "import numpy as np\n",
    "from keras_cv.models import YOLOV8Detector\n",
    "from keras_cv import bounding_box\n",
    "from keras_cv import visualization\n",
    "import os\n",
    "from tensorflow.keras.models import load_model\n",
    "import keras_cv"
   ]
  },
  {
   "cell_type": "code",
   "execution_count": 2,
   "metadata": {},
   "outputs": [],
   "source": [
    "#HYPERPARAMETERS \n",
    "\n",
    "SPLIT_RATIO = 0.2\n",
    "BATCH_SIZE = 4\n",
    "LEARNING_RATE = 0.001\n",
    "EPOCH = 5\n",
    "GLOBAL_CLIPNORM = 10.0"
   ]
  },
  {
   "cell_type": "code",
   "execution_count": 3,
   "metadata": {},
   "outputs": [
    {
     "name": "stdout",
     "output_type": "stream",
     "text": [
      "TensorFlow Version: 2.13.1\n",
      "WARNING:tensorflow:From /tmp/ipykernel_48507/3213065574.py:5: is_gpu_available (from tensorflow.python.framework.test_util) is deprecated and will be removed in a future version.\n",
      "Instructions for updating:\n",
      "Use `tf.config.list_physical_devices('GPU')` instead.\n"
     ]
    },
    {
     "name": "stdout",
     "output_type": "stream",
     "text": [
      "GPU Available: True\n",
      "GPU Device Names: [PhysicalDevice(name='/physical_device:GPU:0', device_type='GPU')]\n"
     ]
    },
    {
     "name": "stderr",
     "output_type": "stream",
     "text": [
      "2023-09-27 12:25:03.229053: I tensorflow/compiler/xla/stream_executor/cuda/cuda_gpu_executor.cc:995] successful NUMA node read from SysFS had negative value (-1), but there must be at least one NUMA node, so returning NUMA node zero. See more at https://github.com/torvalds/linux/blob/v6.0/Documentation/ABI/testing/sysfs-bus-pci#L344-L355\n",
      "2023-09-27 12:25:03.241864: I tensorflow/compiler/xla/stream_executor/cuda/cuda_gpu_executor.cc:995] successful NUMA node read from SysFS had negative value (-1), but there must be at least one NUMA node, so returning NUMA node zero. See more at https://github.com/torvalds/linux/blob/v6.0/Documentation/ABI/testing/sysfs-bus-pci#L344-L355\n",
      "2023-09-27 12:25:03.242164: I tensorflow/compiler/xla/stream_executor/cuda/cuda_gpu_executor.cc:995] successful NUMA node read from SysFS had negative value (-1), but there must be at least one NUMA node, so returning NUMA node zero. See more at https://github.com/torvalds/linux/blob/v6.0/Documentation/ABI/testing/sysfs-bus-pci#L344-L355\n",
      "2023-09-27 12:25:03.517333: I tensorflow/compiler/xla/stream_executor/cuda/cuda_gpu_executor.cc:995] successful NUMA node read from SysFS had negative value (-1), but there must be at least one NUMA node, so returning NUMA node zero. See more at https://github.com/torvalds/linux/blob/v6.0/Documentation/ABI/testing/sysfs-bus-pci#L344-L355\n",
      "2023-09-27 12:25:03.517624: I tensorflow/compiler/xla/stream_executor/cuda/cuda_gpu_executor.cc:995] successful NUMA node read from SysFS had negative value (-1), but there must be at least one NUMA node, so returning NUMA node zero. See more at https://github.com/torvalds/linux/blob/v6.0/Documentation/ABI/testing/sysfs-bus-pci#L344-L355\n",
      "2023-09-27 12:25:03.517802: I tensorflow/compiler/xla/stream_executor/cuda/cuda_gpu_executor.cc:995] successful NUMA node read from SysFS had negative value (-1), but there must be at least one NUMA node, so returning NUMA node zero. See more at https://github.com/torvalds/linux/blob/v6.0/Documentation/ABI/testing/sysfs-bus-pci#L344-L355\n",
      "2023-09-27 12:25:03.517973: I tensorflow/core/common_runtime/gpu/gpu_device.cc:1639] Created device /device:GPU:0 with 3445 MB memory:  -> device: 0, name: NVIDIA GeForce GTX 1050 Ti, pci bus id: 0000:01:00.0, compute capability: 6.1\n",
      "2023-09-27 12:25:03.523576: I tensorflow/compiler/xla/stream_executor/cuda/cuda_gpu_executor.cc:995] successful NUMA node read from SysFS had negative value (-1), but there must be at least one NUMA node, so returning NUMA node zero. See more at https://github.com/torvalds/linux/blob/v6.0/Documentation/ABI/testing/sysfs-bus-pci#L344-L355\n",
      "2023-09-27 12:25:03.523892: I tensorflow/compiler/xla/stream_executor/cuda/cuda_gpu_executor.cc:995] successful NUMA node read from SysFS had negative value (-1), but there must be at least one NUMA node, so returning NUMA node zero. See more at https://github.com/torvalds/linux/blob/v6.0/Documentation/ABI/testing/sysfs-bus-pci#L344-L355\n",
      "2023-09-27 12:25:03.524047: I tensorflow/compiler/xla/stream_executor/cuda/cuda_gpu_executor.cc:995] successful NUMA node read from SysFS had negative value (-1), but there must be at least one NUMA node, so returning NUMA node zero. See more at https://github.com/torvalds/linux/blob/v6.0/Documentation/ABI/testing/sysfs-bus-pci#L344-L355\n"
     ]
    }
   ],
   "source": [
    "# Check TensorFlow Version\n",
    "print(\"TensorFlow Version:\", tf.__version__)\n",
    "\n",
    "# Check for GPU availability\n",
    "print(\"GPU Available:\", tf.test.is_gpu_available())\n",
    "\n",
    "# List the names of available GPUs\n",
    "print(\"GPU Device Names:\", tf.config.list_physical_devices('GPU'))\n"
   ]
  },
  {
   "cell_type": "code",
   "execution_count": 4,
   "metadata": {},
   "outputs": [
    {
     "name": "stderr",
     "output_type": "stream",
     "text": [
      "2023-09-27 12:25:03.965634: I tensorflow/compiler/xla/stream_executor/cuda/cuda_gpu_executor.cc:995] successful NUMA node read from SysFS had negative value (-1), but there must be at least one NUMA node, so returning NUMA node zero. See more at https://github.com/torvalds/linux/blob/v6.0/Documentation/ABI/testing/sysfs-bus-pci#L344-L355\n",
      "2023-09-27 12:25:03.966959: I tensorflow/compiler/xla/stream_executor/cuda/cuda_gpu_executor.cc:995] successful NUMA node read from SysFS had negative value (-1), but there must be at least one NUMA node, so returning NUMA node zero. See more at https://github.com/torvalds/linux/blob/v6.0/Documentation/ABI/testing/sysfs-bus-pci#L344-L355\n",
      "2023-09-27 12:25:03.967333: I tensorflow/compiler/xla/stream_executor/cuda/cuda_gpu_executor.cc:995] successful NUMA node read from SysFS had negative value (-1), but there must be at least one NUMA node, so returning NUMA node zero. See more at https://github.com/torvalds/linux/blob/v6.0/Documentation/ABI/testing/sysfs-bus-pci#L344-L355\n",
      "2023-09-27 12:25:03.967573: I tensorflow/compiler/xla/stream_executor/cuda/cuda_gpu_executor.cc:995] successful NUMA node read from SysFS had negative value (-1), but there must be at least one NUMA node, so returning NUMA node zero. See more at https://github.com/torvalds/linux/blob/v6.0/Documentation/ABI/testing/sysfs-bus-pci#L344-L355\n",
      "2023-09-27 12:25:03.967725: I tensorflow/compiler/xla/stream_executor/cuda/cuda_gpu_executor.cc:995] successful NUMA node read from SysFS had negative value (-1), but there must be at least one NUMA node, so returning NUMA node zero. See more at https://github.com/torvalds/linux/blob/v6.0/Documentation/ABI/testing/sysfs-bus-pci#L344-L355\n",
      "2023-09-27 12:25:03.967859: I tensorflow/core/common_runtime/gpu/gpu_device.cc:1639] Created device /job:localhost/replica:0/task:0/device:GPU:0 with 3445 MB memory:  -> device: 0, name: NVIDIA GeForce GTX 1050 Ti, pci bus id: 0000:01:00.0, compute capability: 6.1\n"
     ]
    }
   ],
   "source": [
    "\n",
    "# Load the model\n",
    "custom_objects = {'YOLOV8Detector': YOLOV8Detector}\n",
    "loaded_yolo = load_model('./goblin-detector-model_v1', custom_objects=custom_objects, compile=False)\n",
    "\n",
    "# Manually compile the model\n",
    "optimizer = tf.keras.optimizers.Adam(\n",
    "    learning_rate=LEARNING_RATE,\n",
    "    global_clipnorm=GLOBAL_CLIPNORM,\n",
    ")\n",
    "\n",
    "loaded_yolo.compile(\n",
    "    optimizer=optimizer,\n",
    "    classification_loss=\"binary_crossentropy\",\n",
    "    box_loss=\"ciou\"\n",
    ")"
   ]
  },
  {
   "cell_type": "code",
   "execution_count": 10,
   "metadata": {},
   "outputs": [],
   "source": [
    "def load_image(image_path):\n",
    "    image = tf.io.read_file(image_path)\n",
    "    image = tf.image.decode_jpeg(image, channels=3)\n",
    "    return image\n",
    "\n",
    "def get_test_data(directory=\"./test_data\"):\n",
    "    files = os.listdir(directory)\n",
    "    image_paths = [os.path.join(directory, f) for f in files if f.endswith(\".jpg\")]\n",
    "    data = tf.data.Dataset.from_tensor_slices(image_paths)\n",
    "    data = data.map(load_image)\n",
    "    return data\n",
    "\n",
    "def visualize_detections(model, dataset, bounding_box_format):\n",
    "    images = next(iter(dataset.take(1)))\n",
    "    \n",
    "    print(f\"test images shape: {images.shape}\")\n",
    "    y_pred = model.predict(images)\n",
    "    print(f\"predictions len: {len(y_pred)}\")\n",
    "    \n",
    "    # Assuming each box in y_pred['boxes'] is assigned the \"Goblin\" class\n",
    "    y_pred['classes'] = tf.constant([[0] * y_pred['boxes'].shape[1] for _ in range(len(images))])\n",
    "\n",
    "    y_pred = bounding_box.to_ragged(y_pred)\n",
    "    \n",
    "    y_true = [[] for _ in range(len(images))]\n",
    "    \n",
    "    # Define the Goblin class mapping\n",
    "    class_mapping = {0: \"Goblin\"}\n",
    "    \n",
    "    visualization.plot_bounding_box_gallery(\n",
    "        images,\n",
    "        value_range=(0, 255),\n",
    "        bounding_box_format=bounding_box_format,\n",
    "        y_true=y_true,\n",
    "        y_pred=y_pred,\n",
    "        scale=4,\n",
    "        rows=2,\n",
    "        cols=2,\n",
    "        show=True,\n",
    "        font_scale=0.7,\n",
    "        class_mapping=class_mapping\n",
    "    )"
   ]
  },
  {
   "cell_type": "code",
   "execution_count": 11,
   "metadata": {},
   "outputs": [
    {
     "data": {
      "text/plain": [
       "(None, None, None, 3)"
      ]
     },
     "execution_count": 11,
     "metadata": {},
     "output_type": "execute_result"
    }
   ],
   "source": [
    "loaded_yolo.input_shape"
   ]
  },
  {
   "cell_type": "code",
   "execution_count": 12,
   "metadata": {},
   "outputs": [
    {
     "name": "stdout",
     "output_type": "stream",
     "text": [
      "test images shape: (4, 640, 640, 3)\n",
      "1/1 [==============================] - 1s 527ms/step\n",
      "predictions len: 4\n"
     ]
    },
    {
     "ename": "ValueError",
     "evalue": "Expected `boxes` and `classes` to have matching dimensions on the first two axes when operating in batched mode. Got `boxes.shape=(4, 100, 4)`, `classes.shape=(4,)`.",
     "output_type": "error",
     "traceback": [
      "\u001b[0;31m---------------------------------------------------------------------------\u001b[0m",
      "\u001b[0;31mValueError\u001b[0m                                Traceback (most recent call last)",
      "\u001b[1;32m/home/tomas/Documents/Github/Object-Detection-OSRS-Goblin-Killer-/test_model.ipynb Cell 7\u001b[0m line \u001b[0;36m1\n\u001b[1;32m     <a href='vscode-notebook-cell:/home/tomas/Documents/Github/Object-Detection-OSRS-Goblin-Killer-/test_model.ipynb#X21sZmlsZQ%3D%3D?line=10'>11</a>\u001b[0m test_data \u001b[39m=\u001b[39m test_data\u001b[39m.\u001b[39mmap(resizing, num_parallel_calls\u001b[39m=\u001b[39mtf\u001b[39m.\u001b[39mdata\u001b[39m.\u001b[39mAUTOTUNE)\n\u001b[1;32m     <a href='vscode-notebook-cell:/home/tomas/Documents/Github/Object-Detection-OSRS-Goblin-Killer-/test_model.ipynb#X21sZmlsZQ%3D%3D?line=12'>13</a>\u001b[0m \u001b[39m# Visualize detections on the test dataset\u001b[39;00m\n\u001b[0;32m---> <a href='vscode-notebook-cell:/home/tomas/Documents/Github/Object-Detection-OSRS-Goblin-Killer-/test_model.ipynb#X21sZmlsZQ%3D%3D?line=13'>14</a>\u001b[0m visualize_detections(loaded_yolo, dataset\u001b[39m=\u001b[39;49mtest_data, bounding_box_format\u001b[39m=\u001b[39;49m\u001b[39m\"\u001b[39;49m\u001b[39mxyxy\u001b[39;49m\u001b[39m\"\u001b[39;49m)\n",
      "\u001b[1;32m/home/tomas/Documents/Github/Object-Detection-OSRS-Goblin-Killer-/test_model.ipynb Cell 7\u001b[0m line \u001b[0;36m2\n\u001b[1;32m     <a href='vscode-notebook-cell:/home/tomas/Documents/Github/Object-Detection-OSRS-Goblin-Killer-/test_model.ipynb#X21sZmlsZQ%3D%3D?line=19'>20</a>\u001b[0m \u001b[39m# Make sure 'classes' in y_pred is set to \"Goblin\"\u001b[39;00m\n\u001b[1;32m     <a href='vscode-notebook-cell:/home/tomas/Documents/Github/Object-Detection-OSRS-Goblin-Killer-/test_model.ipynb#X21sZmlsZQ%3D%3D?line=20'>21</a>\u001b[0m y_pred[\u001b[39m'\u001b[39m\u001b[39mclasses\u001b[39m\u001b[39m'\u001b[39m] \u001b[39m=\u001b[39m tf\u001b[39m.\u001b[39mconstant([\u001b[39m0\u001b[39m \u001b[39mfor\u001b[39;00m _ \u001b[39min\u001b[39;00m \u001b[39mrange\u001b[39m(\u001b[39mlen\u001b[39m(images))])  \u001b[39m# 0 being the index for \"Goblin\"\u001b[39;00m\n\u001b[0;32m---> <a href='vscode-notebook-cell:/home/tomas/Documents/Github/Object-Detection-OSRS-Goblin-Killer-/test_model.ipynb#X21sZmlsZQ%3D%3D?line=22'>23</a>\u001b[0m y_pred \u001b[39m=\u001b[39m bounding_box\u001b[39m.\u001b[39;49mto_ragged(y_pred)\n\u001b[1;32m     <a href='vscode-notebook-cell:/home/tomas/Documents/Github/Object-Detection-OSRS-Goblin-Killer-/test_model.ipynb#X21sZmlsZQ%3D%3D?line=24'>25</a>\u001b[0m y_true \u001b[39m=\u001b[39m [[] \u001b[39mfor\u001b[39;00m _ \u001b[39min\u001b[39;00m \u001b[39mrange\u001b[39m(\u001b[39mlen\u001b[39m(images))]\n\u001b[1;32m     <a href='vscode-notebook-cell:/home/tomas/Documents/Github/Object-Detection-OSRS-Goblin-Killer-/test_model.ipynb#X21sZmlsZQ%3D%3D?line=26'>27</a>\u001b[0m \u001b[39m# Define the Goblin class mapping\u001b[39;00m\n",
      "File \u001b[0;32m~/miniconda3/envs/tf/lib/python3.9/site-packages/keras_cv/bounding_box/to_ragged.py:63\u001b[0m, in \u001b[0;36mto_ragged\u001b[0;34m(bounding_boxes, sentinel, dtype)\u001b[0m\n\u001b[1;32m     56\u001b[0m \u001b[39mif\u001b[39;00m backend\u001b[39m.\u001b[39msupports_ragged() \u001b[39mis\u001b[39;00m \u001b[39mFalse\u001b[39;00m:\n\u001b[1;32m     57\u001b[0m     \u001b[39mraise\u001b[39;00m \u001b[39mNotImplementedError\u001b[39;00m(\n\u001b[1;32m     58\u001b[0m         \u001b[39m\"\u001b[39m\u001b[39m`bounding_box.to_ragged` was called using a backend which does \u001b[39m\u001b[39m\"\u001b[39m\n\u001b[1;32m     59\u001b[0m         \u001b[39m\"\u001b[39m\u001b[39mnot support ragged tensors. \u001b[39m\u001b[39m\"\u001b[39m\n\u001b[1;32m     60\u001b[0m         \u001b[39mf\u001b[39m\u001b[39m\"\u001b[39m\u001b[39mCurrent backend: \u001b[39m\u001b[39m{\u001b[39;00mkeras\u001b[39m.\u001b[39mbackend\u001b[39m.\u001b[39mbackend()\u001b[39m}\u001b[39;00m\u001b[39m.\u001b[39m\u001b[39m\"\u001b[39m\n\u001b[1;32m     61\u001b[0m     )\n\u001b[0;32m---> 63\u001b[0m info \u001b[39m=\u001b[39m validate_format\u001b[39m.\u001b[39;49mvalidate_format(bounding_boxes)\n\u001b[1;32m     65\u001b[0m \u001b[39mif\u001b[39;00m info[\u001b[39m\"\u001b[39m\u001b[39mragged\u001b[39m\u001b[39m\"\u001b[39m]:\n\u001b[1;32m     66\u001b[0m     \u001b[39mreturn\u001b[39;00m bounding_boxes\n",
      "File \u001b[0;32m~/miniconda3/envs/tf/lib/python3.9/site-packages/keras_cv/bounding_box/validate_format.py:89\u001b[0m, in \u001b[0;36mvalidate_format\u001b[0;34m(bounding_boxes, variable_name)\u001b[0m\n\u001b[1;32m     87\u001b[0m \u001b[39m# Batched mode checks\u001b[39;00m\n\u001b[1;32m     88\u001b[0m \u001b[39mif\u001b[39;00m boxes\u001b[39m.\u001b[39mshape[:\u001b[39m2\u001b[39m] \u001b[39m!=\u001b[39m classes\u001b[39m.\u001b[39mshape[:\u001b[39m2\u001b[39m]:\n\u001b[0;32m---> 89\u001b[0m     \u001b[39mraise\u001b[39;00m \u001b[39mValueError\u001b[39;00m(\n\u001b[1;32m     90\u001b[0m         \u001b[39m\"\u001b[39m\u001b[39mExpected `boxes` and `classes` to have matching dimensions \u001b[39m\u001b[39m\"\u001b[39m\n\u001b[1;32m     91\u001b[0m         \u001b[39m\"\u001b[39m\u001b[39mon the first two axes when operating in batched mode. \u001b[39m\u001b[39m\"\u001b[39m\n\u001b[1;32m     92\u001b[0m         \u001b[39mf\u001b[39m\u001b[39m\"\u001b[39m\u001b[39mGot `boxes.shape=\u001b[39m\u001b[39m{\u001b[39;00mboxes\u001b[39m.\u001b[39mshape\u001b[39m}\u001b[39;00m\u001b[39m`, `classes.shape=\u001b[39m\u001b[39m{\u001b[39;00mclasses\u001b[39m.\u001b[39mshape\u001b[39m}\u001b[39;00m\u001b[39m`.\u001b[39m\u001b[39m\"\u001b[39m\n\u001b[1;32m     93\u001b[0m     )\n\u001b[1;32m     95\u001b[0m \u001b[39mreturn\u001b[39;00m info\n",
      "\u001b[0;31mValueError\u001b[0m: Expected `boxes` and `classes` to have matching dimensions on the first two axes when operating in batched mode. Got `boxes.shape=(4, 100, 4)`, `classes.shape=(4,)`."
     ]
    }
   ],
   "source": [
    "#check if detections are ok with test data\n",
    "resizing = keras_cv.layers.JitteredResize(\n",
    "    target_size=(640, 640),\n",
    "    scale_factor=(0.75, 1.3),\n",
    "    bounding_box_format=\"xyxy\",\n",
    ")\n",
    "test_data = get_test_data()\n",
    "\n",
    "test_data  = test_data.shuffle(BATCH_SIZE * 4)\n",
    "test_data = test_data.ragged_batch(BATCH_SIZE, drop_remainder=True)\n",
    "test_data = test_data.map(resizing, num_parallel_calls=tf.data.AUTOTUNE)\n",
    "\n",
    "# Visualize detections on the test dataset\n",
    "visualize_detections(loaded_yolo, dataset=test_data, bounding_box_format=\"xyxy\")"
   ]
  },
  {
   "cell_type": "code",
   "execution_count": null,
   "metadata": {},
   "outputs": [],
   "source": [
    "\n",
    "\n",
    "def start_detecting():\n",
    "\n",
    "\n",
    "    # Yu can use pyautogui.size() to get the screen size if needed\n",
    "    # screen_width, screen_height = pyautogui.size()\n",
    "\n",
    "    # while True:\n",
    "    #     # Capture the screen\n",
    "    #     screenshot = pyautogui.screenshot(region=(0, 0, screen_width, screen_height))\n",
    "    #     frame = cv2.cvtColor(np.array(screenshot), cv2.COLOR_RGB2BGR)\n",
    "\n",
    "    #     # Prepare the frame for the model\n",
    "    #     input_frame = cv2.resize(frame, (640, 640))  # Assuming your YOLO model takes 416x416 images\n",
    "    #     input_frame = np.expand_dims(input_frame, axis=0)\n",
    "\n",
    "    #     # Predict\n",
    "    #     y_pred_dict = loaded_yolo.predict(input_frame)\n",
    "\n",
    "    #     # Get boxes, confidence, and classes from prediction\n",
    "    #     boxes = y_pred_dict['boxes'][0]  # First index 0 assumes a batch size of 1\n",
    "    #     confidence = y_pred_dict['confidence'][0]\n",
    "    #     classes = y_pred_dict['classes'][0]\n",
    "\n",
    "    #     # Filter out detections with confidence -1 or classes -1\n",
    "    #     for box, conf, cls in zip(boxes, confidence, classes):\n",
    "    #         if conf == -1 or cls == -1:\n",
    "    #             continue\n",
    "\n",
    "    #         # Draw rectangle\n",
    "    #         x1, y1, x2, y2 = map(int, box)  # Convert to integers\n",
    "    #         cv2.rectangle(frame, (x1, y1), (x2, y2), (0, 255, 0), 2)\n",
    "            \n",
    "    #         # Add label\n",
    "    #         cv2.putText(frame, str(cls), (x1, y1 - 10), cv2.FONT_HERSHEY_SIMPLEX, 0.5, (0, 255, 0), 1)\n",
    "\n",
    "    #     # Show the frame\n",
    "    #     cv2.imshow('Object Detection', frame)\n",
    "\n",
    "    #     # Break the loop if 'q' is pressed\n",
    "    #     if cv2.waitKey(1) & 0xFF == ord('q'):\n",
    "    #         break\n",
    "\n",
    "    # cv2.destroyAllWindows()\n",
    "\n",
    "\n",
    "\n"
   ]
  },
  {
   "cell_type": "code",
   "execution_count": null,
   "metadata": {},
   "outputs": [
    {
     "name": "stdout",
     "output_type": "stream",
     "text": [
      "Num GPUs Available: 1\n",
      "GPU: PhysicalDevice(name='/physical_device:GPU:0', device_type='GPU')\n"
     ]
    },
    {
     "name": "stderr",
     "output_type": "stream",
     "text": [
      "2023-09-27 12:13:09.785798: W tensorflow/tsl/framework/cpu_allocator_impl.cc:83] Allocation of 62914560 exceeds 10% of free system memory.\n"
     ]
    },
    {
     "name": "stdout",
     "output_type": "stream",
     "text": [
      "images shape: (4, 640, 640, 3)\n"
     ]
    },
    {
     "name": "stderr",
     "output_type": "stream",
     "text": [
      "2023-09-27 12:13:21.142954: I tensorflow/compiler/xla/stream_executor/cuda/cuda_dnn.cc:432] Loaded cuDNN version 8700\n",
      "2023-09-27 12:13:21.580377: I tensorflow/tsl/platform/default/subprocess.cc:304] Start cannot spawn child process: No such file or directory\n",
      "2023-09-27 12:13:21.582571: I tensorflow/tsl/platform/default/subprocess.cc:304] Start cannot spawn child process: No such file or directory\n",
      "2023-09-27 12:13:21.585029: W tensorflow/compiler/xla/stream_executor/gpu/asm_compiler.cc:109] Couldn't get ptxas version : FAILED_PRECONDITION: Couldn't get ptxas/nvlink version string: INTERNAL: Couldn't invoke ptxas --version\n",
      "2023-09-27 12:13:21.586169: I tensorflow/tsl/platform/default/subprocess.cc:304] Start cannot spawn child process: No such file or directory\n",
      "2023-09-27 12:13:21.588812: W tensorflow/compiler/xla/stream_executor/gpu/redzone_allocator.cc:318] INTERNAL: Failed to launch ptxas\n",
      "Relying on driver to perform ptx compilation. \n",
      "Modify $PATH to customize ptxas location.\n",
      "This message will be only logged once.\n"
     ]
    },
    {
     "name": "stdout",
     "output_type": "stream",
     "text": [
      "1/1 [==============================] - 15s 15s/step\n",
      "predictions: {'boxes': array([[[308.5429   , 491.65555  , 384.2222   , 594.4419   ],\n",
      "        [ -1.       ,  -1.       ,  -1.       ,  -1.       ],\n",
      "        [ -1.       ,  -1.       ,  -1.       ,  -1.       ],\n",
      "        ...,\n",
      "        [ -1.       ,  -1.       ,  -1.       ,  -1.       ],\n",
      "        [ -1.       ,  -1.       ,  -1.       ,  -1.       ],\n",
      "        [ -1.       ,  -1.       ,  -1.       ,  -1.       ]],\n",
      "\n",
      "       [[401.50073  ,  80.7566   , 459.5499   , 160.3955   ],\n",
      "        [142.69434  ,   1.8485489, 189.73068  ,  56.85008  ],\n",
      "        [ -0.9805565, 126.825485 ,  47.368233 , 217.50894  ],\n",
      "        ...,\n",
      "        [ -1.       ,  -1.       ,  -1.       ,  -1.       ],\n",
      "        [ -1.       ,  -1.       ,  -1.       ,  -1.       ],\n",
      "        [ -1.       ,  -1.       ,  -1.       ,  -1.       ]],\n",
      "\n",
      "       [[382.80878  , 361.44843  , 445.2689   , 459.3841   ],\n",
      "        [207.82317  , 265.69373  , 274.7027   , 334.79028  ],\n",
      "        [ 97.5333   , 158.19241  , 155.72656  , 227.21808  ],\n",
      "        ...,\n",
      "        [ -1.       ,  -1.       ,  -1.       ,  -1.       ],\n",
      "        [ -1.       ,  -1.       ,  -1.       ,  -1.       ],\n",
      "        [ -1.       ,  -1.       ,  -1.       ,  -1.       ]],\n",
      "\n",
      "       [[163.9114   , 186.23122  , 298.0821   , 372.92462  ],\n",
      "        [157.23894  , 103.90823  , 292.5813   , 273.1526   ],\n",
      "        [ -1.       ,  -1.       ,  -1.       ,  -1.       ],\n",
      "        ...,\n",
      "        [ -1.       ,  -1.       ,  -1.       ,  -1.       ],\n",
      "        [ -1.       ,  -1.       ,  -1.       ,  -1.       ],\n",
      "        [ -1.       ,  -1.       ,  -1.       ,  -1.       ]]],\n",
      "      dtype=float32), 'confidence': array([[ 0.87199765, -1.        , -1.        , -1.        , -1.        ,\n",
      "        -1.        , -1.        , -1.        , -1.        , -1.        ,\n",
      "        -1.        , -1.        , -1.        , -1.        , -1.        ,\n",
      "        -1.        , -1.        , -1.        , -1.        , -1.        ,\n",
      "        -1.        , -1.        , -1.        , -1.        , -1.        ,\n",
      "        -1.        , -1.        , -1.        , -1.        , -1.        ,\n",
      "        -1.        , -1.        , -1.        , -1.        , -1.        ,\n",
      "        -1.        , -1.        , -1.        , -1.        , -1.        ,\n",
      "        -1.        , -1.        , -1.        , -1.        , -1.        ,\n",
      "        -1.        , -1.        , -1.        , -1.        , -1.        ,\n",
      "        -1.        , -1.        , -1.        , -1.        , -1.        ,\n",
      "        -1.        , -1.        , -1.        , -1.        , -1.        ,\n",
      "        -1.        , -1.        , -1.        , -1.        , -1.        ,\n",
      "        -1.        , -1.        , -1.        , -1.        , -1.        ,\n",
      "        -1.        , -1.        , -1.        , -1.        , -1.        ,\n",
      "        -1.        , -1.        , -1.        , -1.        , -1.        ,\n",
      "        -1.        , -1.        , -1.        , -1.        , -1.        ,\n",
      "        -1.        , -1.        , -1.        , -1.        , -1.        ,\n",
      "        -1.        , -1.        , -1.        , -1.        , -1.        ,\n",
      "        -1.        , -1.        , -1.        , -1.        , -1.        ],\n",
      "       [ 0.9056642 ,  0.88604033,  0.86932075,  0.8689472 ,  0.86612666,\n",
      "         0.8598774 ,  0.83334243,  0.8030309 ,  0.7840757 ,  0.70675397,\n",
      "         0.2797388 ,  0.21685062, -1.        , -1.        , -1.        ,\n",
      "        -1.        , -1.        , -1.        , -1.        , -1.        ,\n",
      "        -1.        , -1.        , -1.        , -1.        , -1.        ,\n",
      "        -1.        , -1.        , -1.        , -1.        , -1.        ,\n",
      "        -1.        , -1.        , -1.        , -1.        , -1.        ,\n",
      "        -1.        , -1.        , -1.        , -1.        , -1.        ,\n",
      "        -1.        , -1.        , -1.        , -1.        , -1.        ,\n",
      "        -1.        , -1.        , -1.        , -1.        , -1.        ,\n",
      "        -1.        , -1.        , -1.        , -1.        , -1.        ,\n",
      "        -1.        , -1.        , -1.        , -1.        , -1.        ,\n",
      "        -1.        , -1.        , -1.        , -1.        , -1.        ,\n",
      "        -1.        , -1.        , -1.        , -1.        , -1.        ,\n",
      "        -1.        , -1.        , -1.        , -1.        , -1.        ,\n",
      "        -1.        , -1.        , -1.        , -1.        , -1.        ,\n",
      "        -1.        , -1.        , -1.        , -1.        , -1.        ,\n",
      "        -1.        , -1.        , -1.        , -1.        , -1.        ,\n",
      "        -1.        , -1.        , -1.        , -1.        , -1.        ,\n",
      "        -1.        , -1.        , -1.        , -1.        , -1.        ],\n",
      "       [ 0.9092337 ,  0.87406707,  0.86940753,  0.86472416,  0.84535   ,\n",
      "         0.7628654 ,  0.7445805 , -1.        , -1.        , -1.        ,\n",
      "        -1.        , -1.        , -1.        , -1.        , -1.        ,\n",
      "        -1.        , -1.        , -1.        , -1.        , -1.        ,\n",
      "        -1.        , -1.        , -1.        , -1.        , -1.        ,\n",
      "        -1.        , -1.        , -1.        , -1.        , -1.        ,\n",
      "        -1.        , -1.        , -1.        , -1.        , -1.        ,\n",
      "        -1.        , -1.        , -1.        , -1.        , -1.        ,\n",
      "        -1.        , -1.        , -1.        , -1.        , -1.        ,\n",
      "        -1.        , -1.        , -1.        , -1.        , -1.        ,\n",
      "        -1.        , -1.        , -1.        , -1.        , -1.        ,\n",
      "        -1.        , -1.        , -1.        , -1.        , -1.        ,\n",
      "        -1.        , -1.        , -1.        , -1.        , -1.        ,\n",
      "        -1.        , -1.        , -1.        , -1.        , -1.        ,\n",
      "        -1.        , -1.        , -1.        , -1.        , -1.        ,\n",
      "        -1.        , -1.        , -1.        , -1.        , -1.        ,\n",
      "        -1.        , -1.        , -1.        , -1.        , -1.        ,\n",
      "        -1.        , -1.        , -1.        , -1.        , -1.        ,\n",
      "        -1.        , -1.        , -1.        , -1.        , -1.        ,\n",
      "        -1.        , -1.        , -1.        , -1.        , -1.        ],\n",
      "       [ 0.8966509 ,  0.8600908 , -1.        , -1.        , -1.        ,\n",
      "        -1.        , -1.        , -1.        , -1.        , -1.        ,\n",
      "        -1.        , -1.        , -1.        , -1.        , -1.        ,\n",
      "        -1.        , -1.        , -1.        , -1.        , -1.        ,\n",
      "        -1.        , -1.        , -1.        , -1.        , -1.        ,\n",
      "        -1.        , -1.        , -1.        , -1.        , -1.        ,\n",
      "        -1.        , -1.        , -1.        , -1.        , -1.        ,\n",
      "        -1.        , -1.        , -1.        , -1.        , -1.        ,\n",
      "        -1.        , -1.        , -1.        , -1.        , -1.        ,\n",
      "        -1.        , -1.        , -1.        , -1.        , -1.        ,\n",
      "        -1.        , -1.        , -1.        , -1.        , -1.        ,\n",
      "        -1.        , -1.        , -1.        , -1.        , -1.        ,\n",
      "        -1.        , -1.        , -1.        , -1.        , -1.        ,\n",
      "        -1.        , -1.        , -1.        , -1.        , -1.        ,\n",
      "        -1.        , -1.        , -1.        , -1.        , -1.        ,\n",
      "        -1.        , -1.        , -1.        , -1.        , -1.        ,\n",
      "        -1.        , -1.        , -1.        , -1.        , -1.        ,\n",
      "        -1.        , -1.        , -1.        , -1.        , -1.        ,\n",
      "        -1.        , -1.        , -1.        , -1.        , -1.        ,\n",
      "        -1.        , -1.        , -1.        , -1.        , -1.        ]],\n",
      "      dtype=float32), 'classes': array([[ 1, -1, -1, -1, -1, -1, -1, -1, -1, -1, -1, -1, -1, -1, -1, -1,\n",
      "        -1, -1, -1, -1, -1, -1, -1, -1, -1, -1, -1, -1, -1, -1, -1, -1,\n",
      "        -1, -1, -1, -1, -1, -1, -1, -1, -1, -1, -1, -1, -1, -1, -1, -1,\n",
      "        -1, -1, -1, -1, -1, -1, -1, -1, -1, -1, -1, -1, -1, -1, -1, -1,\n",
      "        -1, -1, -1, -1, -1, -1, -1, -1, -1, -1, -1, -1, -1, -1, -1, -1,\n",
      "        -1, -1, -1, -1, -1, -1, -1, -1, -1, -1, -1, -1, -1, -1, -1, -1,\n",
      "        -1, -1, -1, -1],\n",
      "       [ 1,  1,  1,  1,  1,  1,  1,  1,  1,  1,  1,  1, -1, -1, -1, -1,\n",
      "        -1, -1, -1, -1, -1, -1, -1, -1, -1, -1, -1, -1, -1, -1, -1, -1,\n",
      "        -1, -1, -1, -1, -1, -1, -1, -1, -1, -1, -1, -1, -1, -1, -1, -1,\n",
      "        -1, -1, -1, -1, -1, -1, -1, -1, -1, -1, -1, -1, -1, -1, -1, -1,\n",
      "        -1, -1, -1, -1, -1, -1, -1, -1, -1, -1, -1, -1, -1, -1, -1, -1,\n",
      "        -1, -1, -1, -1, -1, -1, -1, -1, -1, -1, -1, -1, -1, -1, -1, -1,\n",
      "        -1, -1, -1, -1],\n",
      "       [ 1,  1,  1,  1,  1,  1,  1, -1, -1, -1, -1, -1, -1, -1, -1, -1,\n",
      "        -1, -1, -1, -1, -1, -1, -1, -1, -1, -1, -1, -1, -1, -1, -1, -1,\n",
      "        -1, -1, -1, -1, -1, -1, -1, -1, -1, -1, -1, -1, -1, -1, -1, -1,\n",
      "        -1, -1, -1, -1, -1, -1, -1, -1, -1, -1, -1, -1, -1, -1, -1, -1,\n",
      "        -1, -1, -1, -1, -1, -1, -1, -1, -1, -1, -1, -1, -1, -1, -1, -1,\n",
      "        -1, -1, -1, -1, -1, -1, -1, -1, -1, -1, -1, -1, -1, -1, -1, -1,\n",
      "        -1, -1, -1, -1],\n",
      "       [ 1,  1, -1, -1, -1, -1, -1, -1, -1, -1, -1, -1, -1, -1, -1, -1,\n",
      "        -1, -1, -1, -1, -1, -1, -1, -1, -1, -1, -1, -1, -1, -1, -1, -1,\n",
      "        -1, -1, -1, -1, -1, -1, -1, -1, -1, -1, -1, -1, -1, -1, -1, -1,\n",
      "        -1, -1, -1, -1, -1, -1, -1, -1, -1, -1, -1, -1, -1, -1, -1, -1,\n",
      "        -1, -1, -1, -1, -1, -1, -1, -1, -1, -1, -1, -1, -1, -1, -1, -1,\n",
      "        -1, -1, -1, -1, -1, -1, -1, -1, -1, -1, -1, -1, -1, -1, -1, -1,\n",
      "        -1, -1, -1, -1]]), 'num_detections': array([ 1, 12,  7,  2], dtype=int32)}\n"
     ]
    },
    {
     "ename": "ImportError",
     "evalue": "plot_bounding_box_gallery requires the `matplotlib` package. Please install the package using `pip install matplotlib`.",
     "output_type": "error",
     "traceback": [
      "\u001b[0;31m---------------------------------------------------------------------------\u001b[0m",
      "\u001b[0;31mImportError\u001b[0m                               Traceback (most recent call last)",
      "\u001b[1;32m/home/tomas/Documents/Github/Object-Detection-OSRS-Goblin-Killer-/test_model.ipynb Cell 6\u001b[0m line \u001b[0;36m6\n\u001b[1;32m      <a href='vscode-notebook-cell:/home/tomas/Documents/Github/Object-Detection-OSRS-Goblin-Killer-/test_model.ipynb#W4sZmlsZQ%3D%3D?line=3'>4</a>\u001b[0m     \u001b[39mfor\u001b[39;00m gpu \u001b[39min\u001b[39;00m gpus:\n\u001b[1;32m      <a href='vscode-notebook-cell:/home/tomas/Documents/Github/Object-Detection-OSRS-Goblin-Killer-/test_model.ipynb#W4sZmlsZQ%3D%3D?line=4'>5</a>\u001b[0m         \u001b[39mprint\u001b[39m(\u001b[39mf\u001b[39m\u001b[39m\"\u001b[39m\u001b[39mGPU: \u001b[39m\u001b[39m{\u001b[39;00mgpu\u001b[39m}\u001b[39;00m\u001b[39m\"\u001b[39m)\n\u001b[0;32m----> <a href='vscode-notebook-cell:/home/tomas/Documents/Github/Object-Detection-OSRS-Goblin-Killer-/test_model.ipynb#W4sZmlsZQ%3D%3D?line=5'>6</a>\u001b[0m     start_detecting()\n\u001b[1;32m      <a href='vscode-notebook-cell:/home/tomas/Documents/Github/Object-Detection-OSRS-Goblin-Killer-/test_model.ipynb#W4sZmlsZQ%3D%3D?line=6'>7</a>\u001b[0m \u001b[39melse\u001b[39;00m:\n\u001b[1;32m      <a href='vscode-notebook-cell:/home/tomas/Documents/Github/Object-Detection-OSRS-Goblin-Killer-/test_model.ipynb#W4sZmlsZQ%3D%3D?line=7'>8</a>\u001b[0m     \u001b[39mprint\u001b[39m(\u001b[39m\"\u001b[39m\u001b[39mNo GPUs are available!\u001b[39m\u001b[39m\"\u001b[39m)\n",
      "\u001b[1;32m/home/tomas/Documents/Github/Object-Detection-OSRS-Goblin-Killer-/test_model.ipynb Cell 6\u001b[0m line \u001b[0;36m3\n\u001b[1;32m     <a href='vscode-notebook-cell:/home/tomas/Documents/Github/Object-Detection-OSRS-Goblin-Killer-/test_model.ipynb#W4sZmlsZQ%3D%3D?line=31'>32</a>\u001b[0m     test_data \u001b[39m=\u001b[39m test_data\u001b[39m.\u001b[39mmap(resizing, num_parallel_calls\u001b[39m=\u001b[39mtf\u001b[39m.\u001b[39mdata\u001b[39m.\u001b[39mAUTOTUNE)\n\u001b[1;32m     <a href='vscode-notebook-cell:/home/tomas/Documents/Github/Object-Detection-OSRS-Goblin-Killer-/test_model.ipynb#W4sZmlsZQ%3D%3D?line=33'>34</a>\u001b[0m     \u001b[39m# Visualize detections on the test dataset\u001b[39;00m\n\u001b[0;32m---> <a href='vscode-notebook-cell:/home/tomas/Documents/Github/Object-Detection-OSRS-Goblin-Killer-/test_model.ipynb#W4sZmlsZQ%3D%3D?line=34'>35</a>\u001b[0m     visualize_detections(loaded_yolo, dataset\u001b[39m=\u001b[39;49mtest_data, bounding_box_format\u001b[39m=\u001b[39;49m\u001b[39m\"\u001b[39;49m\u001b[39mxyxy\u001b[39;49m\u001b[39m\"\u001b[39;49m)\n\u001b[1;32m     <a href='vscode-notebook-cell:/home/tomas/Documents/Github/Object-Detection-OSRS-Goblin-Killer-/test_model.ipynb#W4sZmlsZQ%3D%3D?line=35'>36</a>\u001b[0m \u001b[39mexcept\u001b[39;00m \u001b[39mKeyError\u001b[39;00m \u001b[39mas\u001b[39;00m e:\n\u001b[1;32m     <a href='vscode-notebook-cell:/home/tomas/Documents/Github/Object-Detection-OSRS-Goblin-Killer-/test_model.ipynb#W4sZmlsZQ%3D%3D?line=36'>37</a>\u001b[0m     \u001b[39mprint\u001b[39m(\u001b[39mf\u001b[39m\u001b[39m\"\u001b[39m\u001b[39mKeyError: \u001b[39m\u001b[39m{\u001b[39;00me\u001b[39m}\u001b[39;00m\u001b[39m\"\u001b[39m)\n",
      "\u001b[1;32m/home/tomas/Documents/Github/Object-Detection-OSRS-Goblin-Killer-/test_model.ipynb Cell 6\u001b[0m line \u001b[0;36m3\n\u001b[1;32m     <a href='vscode-notebook-cell:/home/tomas/Documents/Github/Object-Detection-OSRS-Goblin-Killer-/test_model.ipynb#W4sZmlsZQ%3D%3D?line=29'>30</a>\u001b[0m \u001b[39m# Using an empty array as placeholder for y_true\u001b[39;00m\n\u001b[1;32m     <a href='vscode-notebook-cell:/home/tomas/Documents/Github/Object-Detection-OSRS-Goblin-Killer-/test_model.ipynb#W4sZmlsZQ%3D%3D?line=30'>31</a>\u001b[0m y_true \u001b[39m=\u001b[39m [[] \u001b[39mfor\u001b[39;00m _ \u001b[39min\u001b[39;00m \u001b[39mrange\u001b[39m(\u001b[39mlen\u001b[39m(images))]\n\u001b[0;32m---> <a href='vscode-notebook-cell:/home/tomas/Documents/Github/Object-Detection-OSRS-Goblin-Killer-/test_model.ipynb#W4sZmlsZQ%3D%3D?line=32'>33</a>\u001b[0m visualization\u001b[39m.\u001b[39;49mplot_bounding_box_gallery(\n\u001b[1;32m     <a href='vscode-notebook-cell:/home/tomas/Documents/Github/Object-Detection-OSRS-Goblin-Killer-/test_model.ipynb#W4sZmlsZQ%3D%3D?line=33'>34</a>\u001b[0m     images,\n\u001b[1;32m     <a href='vscode-notebook-cell:/home/tomas/Documents/Github/Object-Detection-OSRS-Goblin-Killer-/test_model.ipynb#W4sZmlsZQ%3D%3D?line=34'>35</a>\u001b[0m     value_range\u001b[39m=\u001b[39;49m(\u001b[39m0\u001b[39;49m, \u001b[39m255\u001b[39;49m),\n\u001b[1;32m     <a href='vscode-notebook-cell:/home/tomas/Documents/Github/Object-Detection-OSRS-Goblin-Killer-/test_model.ipynb#W4sZmlsZQ%3D%3D?line=35'>36</a>\u001b[0m     bounding_box_format\u001b[39m=\u001b[39;49mbounding_box_format,\n\u001b[1;32m     <a href='vscode-notebook-cell:/home/tomas/Documents/Github/Object-Detection-OSRS-Goblin-Killer-/test_model.ipynb#W4sZmlsZQ%3D%3D?line=36'>37</a>\u001b[0m     y_true\u001b[39m=\u001b[39;49my_true,\n\u001b[1;32m     <a href='vscode-notebook-cell:/home/tomas/Documents/Github/Object-Detection-OSRS-Goblin-Killer-/test_model.ipynb#W4sZmlsZQ%3D%3D?line=37'>38</a>\u001b[0m     y_pred\u001b[39m=\u001b[39;49my_pred,\n\u001b[1;32m     <a href='vscode-notebook-cell:/home/tomas/Documents/Github/Object-Detection-OSRS-Goblin-Killer-/test_model.ipynb#W4sZmlsZQ%3D%3D?line=38'>39</a>\u001b[0m     scale\u001b[39m=\u001b[39;49m\u001b[39m4\u001b[39;49m,\n\u001b[1;32m     <a href='vscode-notebook-cell:/home/tomas/Documents/Github/Object-Detection-OSRS-Goblin-Killer-/test_model.ipynb#W4sZmlsZQ%3D%3D?line=39'>40</a>\u001b[0m     rows\u001b[39m=\u001b[39;49m\u001b[39m2\u001b[39;49m,\n\u001b[1;32m     <a href='vscode-notebook-cell:/home/tomas/Documents/Github/Object-Detection-OSRS-Goblin-Killer-/test_model.ipynb#W4sZmlsZQ%3D%3D?line=40'>41</a>\u001b[0m     cols\u001b[39m=\u001b[39;49m\u001b[39m2\u001b[39;49m,\n\u001b[1;32m     <a href='vscode-notebook-cell:/home/tomas/Documents/Github/Object-Detection-OSRS-Goblin-Killer-/test_model.ipynb#W4sZmlsZQ%3D%3D?line=41'>42</a>\u001b[0m     show\u001b[39m=\u001b[39;49m\u001b[39mTrue\u001b[39;49;00m,\n\u001b[1;32m     <a href='vscode-notebook-cell:/home/tomas/Documents/Github/Object-Detection-OSRS-Goblin-Killer-/test_model.ipynb#W4sZmlsZQ%3D%3D?line=42'>43</a>\u001b[0m     font_scale\u001b[39m=\u001b[39;49m\u001b[39m0.7\u001b[39;49m\n\u001b[1;32m     <a href='vscode-notebook-cell:/home/tomas/Documents/Github/Object-Detection-OSRS-Goblin-Killer-/test_model.ipynb#W4sZmlsZQ%3D%3D?line=43'>44</a>\u001b[0m )\n",
      "File \u001b[0;32m~/miniconda3/envs/tf/lib/python3.9/site-packages/keras_cv/visualization/plot_bounding_box_gallery.py:119\u001b[0m, in \u001b[0;36mplot_bounding_box_gallery\u001b[0;34m(images, value_range, bounding_box_format, y_true, y_pred, true_color, pred_color, line_thickness, font_scale, text_thickness, class_mapping, ground_truth_mapping, prediction_mapping, legend, legend_handles, rows, cols, **kwargs)\u001b[0m\n\u001b[1;32m     34\u001b[0m \u001b[39m@keras_cv_export\u001b[39m(\u001b[39m\"\u001b[39m\u001b[39mkeras_cv.visualization.plot_bounding_box_gallery\u001b[39m\u001b[39m\"\u001b[39m)\n\u001b[1;32m     35\u001b[0m \u001b[39mdef\u001b[39;00m \u001b[39mplot_bounding_box_gallery\u001b[39m(\n\u001b[1;32m     36\u001b[0m     images,\n\u001b[0;32m   (...)\u001b[0m\n\u001b[1;32m     53\u001b[0m     \u001b[39m*\u001b[39m\u001b[39m*\u001b[39mkwargs\n\u001b[1;32m     54\u001b[0m ):\n\u001b[1;32m     55\u001b[0m \u001b[39m    \u001b[39m\u001b[39m\"\"\"Plots a gallery of images with corresponding bounding box annotations.\u001b[39;00m\n\u001b[1;32m     56\u001b[0m \n\u001b[1;32m     57\u001b[0m \u001b[39m    Usage:\u001b[39;00m\n\u001b[0;32m   (...)\u001b[0m\n\u001b[1;32m    117\u001b[0m \u001b[39m            `keras_cv.visualization.plot_image_gallery()`.\u001b[39;00m\n\u001b[1;32m    118\u001b[0m \u001b[39m    \"\"\"\u001b[39;00m\n\u001b[0;32m--> 119\u001b[0m     assert_matplotlib_installed(\u001b[39m\"\u001b[39;49m\u001b[39mplot_bounding_box_gallery\u001b[39;49m\u001b[39m\"\u001b[39;49m)\n\u001b[1;32m    120\u001b[0m     assert_cv2_installed(\u001b[39m\"\u001b[39m\u001b[39mplot_bounding_box_gallery\u001b[39m\u001b[39m\"\u001b[39m)\n\u001b[1;32m    122\u001b[0m     prediction_mapping \u001b[39m=\u001b[39m prediction_mapping \u001b[39mor\u001b[39;00m class_mapping\n",
      "File \u001b[0;32m~/miniconda3/envs/tf/lib/python3.9/site-packages/keras_cv/utils/conditional_imports.py:48\u001b[0m, in \u001b[0;36massert_matplotlib_installed\u001b[0;34m(symbol_name)\u001b[0m\n\u001b[1;32m     46\u001b[0m \u001b[39mdef\u001b[39;00m \u001b[39massert_matplotlib_installed\u001b[39m(symbol_name):\n\u001b[1;32m     47\u001b[0m     \u001b[39mif\u001b[39;00m matplotlib \u001b[39mis\u001b[39;00m \u001b[39mNone\u001b[39;00m:\n\u001b[0;32m---> 48\u001b[0m         \u001b[39mraise\u001b[39;00m \u001b[39mImportError\u001b[39;00m(\n\u001b[1;32m     49\u001b[0m             \u001b[39mf\u001b[39m\u001b[39m\"\u001b[39m\u001b[39m{\u001b[39;00msymbol_name\u001b[39m}\u001b[39;00m\u001b[39m requires the `matplotlib` package. \u001b[39m\u001b[39m\"\u001b[39m\n\u001b[1;32m     50\u001b[0m             \u001b[39m\"\u001b[39m\u001b[39mPlease install the package using \u001b[39m\u001b[39m\"\u001b[39m\n\u001b[1;32m     51\u001b[0m             \u001b[39m\"\u001b[39m\u001b[39m`pip install matplotlib`.\u001b[39m\u001b[39m\"\u001b[39m\n\u001b[1;32m     52\u001b[0m         )\n",
      "\u001b[0;31mImportError\u001b[0m: plot_bounding_box_gallery requires the `matplotlib` package. Please install the package using `pip install matplotlib`."
     ]
    }
   ],
   "source": [
    "\n",
    "\n",
    "gpus = tf.config.list_physical_devices('GPU')\n",
    "if gpus:\n",
    "    print(f\"Num GPUs Available: {len(gpus)}\")\n",
    "    for gpu in gpus:\n",
    "        print(f\"GPU: {gpu}\")\n",
    "    start_detecting()\n",
    "else:\n",
    "    print(\"No GPUs are available!\")"
   ]
  }
 ],
 "metadata": {
  "kernelspec": {
   "display_name": "tf",
   "language": "python",
   "name": "python3"
  },
  "language_info": {
   "codemirror_mode": {
    "name": "ipython",
    "version": 3
   },
   "file_extension": ".py",
   "mimetype": "text/x-python",
   "name": "python",
   "nbconvert_exporter": "python",
   "pygments_lexer": "ipython3",
   "version": "3.9.18"
  },
  "orig_nbformat": 4
 },
 "nbformat": 4,
 "nbformat_minor": 2
}
